{
 "cells": [
  {
   "cell_type": "markdown",
   "id": "1813b7bc-1a06-419e-bb5f-649a62c6d7e7",
   "metadata": {},
   "source": [
    "#  Import Library"
   ]
  },
  {
   "cell_type": "code",
   "execution_count": 1,
   "id": "04cbe4e2-3ab5-4a92-818a-1ba859b200d3",
   "metadata": {},
   "outputs": [
    {
     "name": "stderr",
     "output_type": "stream",
     "text": [
      "[nltk_data] Downloading package punkt to\n",
      "[nltk_data]     C:\\Users\\fachr\\AppData\\Roaming\\nltk_data...\n",
      "[nltk_data]   Package punkt is already up-to-date!\n",
      "[nltk_data] Downloading package stopwords to\n",
      "[nltk_data]     C:\\Users\\fachr\\AppData\\Roaming\\nltk_data...\n",
      "[nltk_data]   Package stopwords is already up-to-date!\n",
      "[nltk_data] Downloading package wordnet to\n",
      "[nltk_data]     C:\\Users\\fachr\\AppData\\Roaming\\nltk_data...\n",
      "[nltk_data]   Package wordnet is already up-to-date!\n"
     ]
    }
   ],
   "source": [
    "# Import necessary libraries\n",
    "import numpy as np\n",
    "import pandas as pd\n",
    "import seaborn as sns\n",
    "from pylab import rcParams\n",
    "import matplotlib.pyplot as plt\n",
    "from matplotlib import rc\n",
    "from sklearn.model_selection import train_test_split\n",
    "from sklearn.metrics import confusion_matrix, classification_report\n",
    "from collections import defaultdict\n",
    "from textwrap import wrap\n",
    "import seaborn as sns\n",
    "from sklearn.preprocessing import LabelEncoder\n",
    "\n",
    "import tensorflow as tf\n",
    "import tensorflow_hub as hub\n",
    "import tensorflow_text as text\n",
    "from sklearn.feature_extraction.text import TfidfVectorizer\n",
    "\n",
    "import re\n",
    "import nltk\n",
    "from nltk.corpus import stopwords\n",
    "from nltk.tokenize import word_tokenize\n",
    "from nltk.stem import WordNetLemmatizer\n",
    "from bs4 import BeautifulSoup\n",
    "import google.generativeai as genai\n",
    "\n",
    "nltk.download('punkt')\n",
    "nltk.download('stopwords')\n",
    "nltk.download('wordnet')\n",
    "\n",
    "# Misc.\n",
    "import warnings\n",
    "warnings.filterwarnings('ignore')"
   ]
  },
  {
   "cell_type": "markdown",
   "id": "68ff1e87-ab47-44cf-b67b-66ca85cc5441",
   "metadata": {},
   "source": [
    "# Preprocessing"
   ]
  },
  {
   "cell_type": "markdown",
   "id": "08492555-dfc9-42df-8d7e-7d90c43e1109",
   "metadata": {},
   "source": [
    "## Import Data"
   ]
  },
  {
   "cell_type": "markdown",
   "id": "8b3f7166-87a8-418d-a5d3-2b51f8a26858",
   "metadata": {},
   "source": [
    "### DKI Jakarta"
   ]
  },
  {
   "cell_type": "code",
   "execution_count": 2,
   "id": "6fe1d9ca-9282-43c0-a0a9-4eb23e4bda06",
   "metadata": {},
   "outputs": [],
   "source": [
    "dki_paths = [\n",
    "    #r'.\\dataset\\DKI Jakarta\\Jakarta_reviews.csv',\n",
    "    r'.\\dataset\\DKI Jakarta\\Revisi Jakarta 1\\Jakarta_reviews_rev1.csv',\n",
    "    r'.\\dataset\\DKI Jakarta\\Revisi Jakarta 2\\Jakarta_reviews_rev2.csv',\n",
    "    r'.\\dataset\\DKI Jakarta\\Revisi Jakarta 3\\Jakarta_reviews_rev3.csv'\n",
    "]"
   ]
  },
  {
   "cell_type": "code",
   "execution_count": 3,
   "id": "f19d7f25",
   "metadata": {},
   "outputs": [],
   "source": [
    "dki_dfs = [pd.read_csv(dki_path) for dki_path in dki_paths]\n",
    "dki_xlsx = pd.read_excel('.\\dataset\\DKI Jakarta\\Jakarta_reviews.xlsx')"
   ]
  },
  {
   "cell_type": "markdown",
   "id": "c33a1a24",
   "metadata": {},
   "source": [
    "### Banten"
   ]
  },
  {
   "cell_type": "code",
   "execution_count": 4,
   "id": "a9237bcc",
   "metadata": {},
   "outputs": [],
   "source": [
    "banten_paths = [\n",
    "    r'.\\dataset\\Banten\\Banten_reviews.csv',\n",
    "    r'.\\dataset\\Banten\\Revisi Banten 1\\Banten_reviews_rev1.csv',\n",
    "    r'.\\dataset\\Banten\\Revisi Banten 2\\Banten_reviews_rev2.csv',\n",
    "    r'.\\dataset\\Banten\\Revisi Banten 3\\Banten_reviews_rev3.csv',\n",
    "    r'.\\dataset\\Banten\\Revisi Banten 4\\Banten_reviews_rev4.csv',\n",
    "    r'.\\dataset\\Banten\\Revisi Banten 5\\Banten_reviews_rev5.csv'\n",
    "]"
   ]
  },
  {
   "cell_type": "code",
   "execution_count": 5,
   "id": "b26ff830",
   "metadata": {},
   "outputs": [],
   "source": [
    "banten_dfs = [pd.read_csv(banten_path) for banten_path in banten_paths]"
   ]
  },
  {
   "cell_type": "markdown",
   "id": "ba58657f",
   "metadata": {},
   "source": [
    "### Jawa Barat"
   ]
  },
  {
   "cell_type": "code",
   "execution_count": 6,
   "id": "2a2972ba",
   "metadata": {},
   "outputs": [],
   "source": [
    "jabar_paths = [\n",
    "    r'.\\dataset\\Jawa Barat\\Jabar_reviews.csv',\n",
    "    r'.\\dataset\\Jawa Barat\\Revisi Jawa Barat 1\\Jabar_reviews_rev1.csv',\n",
    "    r'.\\dataset\\Jawa Barat\\Revisi Jawa Barat 2\\Jabar_reviews_rev2.csv',\n",
    "    r'.\\dataset\\Jawa Barat\\Revisi Jawa Barat 3\\Jabar_reviews_rev3.csv',\n",
    "    r'.\\dataset\\Jawa Barat\\Revisi Jawa Barat 4\\Jabar_reviews_rev4.csv'\n",
    "]"
   ]
  },
  {
   "cell_type": "code",
   "execution_count": 7,
   "id": "e405632b",
   "metadata": {},
   "outputs": [],
   "source": [
    "jabar_dfs = [pd.read_csv(jabar_path) for jabar_path in jabar_paths]"
   ]
  },
  {
   "cell_type": "markdown",
   "id": "5976e33b",
   "metadata": {},
   "source": [
    "### Jawa Tengah"
   ]
  },
  {
   "cell_type": "code",
   "execution_count": 8,
   "id": "c5ed7ebf",
   "metadata": {},
   "outputs": [],
   "source": [
    "jateng_paths = [\n",
    "    #r'.\\dataset\\DKI Jakarta\\Jakarta_reviews.csv',\n",
    "    r'.\\dataset\\Jawa Tengah\\Revisi Jawa Tengah 1\\jateng_reviews_rev1.csv',\n",
    "    r'.\\dataset\\Jawa Tengah\\Revisi Jawa Tengah 2\\jateng_reviews_rev2.csv',\n",
    "    r'.\\dataset\\Jawa Tengah\\Revisi Jawa Tengah 3\\jateng_reviews_rev3.csv'\n",
    "]"
   ]
  },
  {
   "cell_type": "code",
   "execution_count": 9,
   "id": "9ec0d2a6",
   "metadata": {},
   "outputs": [],
   "source": [
    "jateng_dfs = [pd.read_csv(jateng_path) for jateng_path in jateng_paths]\n",
    "jateng_xlsx = pd.read_excel('.\\dataset\\Jawa Tengah\\Jateng_reviews.xlsx')"
   ]
  },
  {
   "cell_type": "markdown",
   "id": "2edeeeb8",
   "metadata": {},
   "source": [
    "### Jawa Timur"
   ]
  },
  {
   "cell_type": "code",
   "execution_count": 10,
   "id": "82527763",
   "metadata": {},
   "outputs": [],
   "source": [
    "jatim_paths = [\n",
    "    r'.\\dataset\\Jawa Timur\\jatim_reviews.csv',\n",
    "    r'.\\dataset\\Jawa Timur\\Revisi Jawa Timur 1\\jatim_reviews_rev1.csv',\n",
    "    r'.\\dataset\\Jawa Timur\\Revisi Jawa Timur 2\\jatim_reviews_rev2.csv',\n",
    "    r'.\\dataset\\Jawa Timur\\Revisi Jawa Timur 3\\jatim_reviews_rev3.csv'\n",
    "]"
   ]
  },
  {
   "cell_type": "code",
   "execution_count": 11,
   "id": "a870e5a2",
   "metadata": {},
   "outputs": [],
   "source": [
    "jatim_dfs = [pd.read_csv(jatim_path) for jatim_path in jatim_paths]"
   ]
  },
  {
   "cell_type": "markdown",
   "id": "e69938f8",
   "metadata": {},
   "source": [
    "### DI Yogyakarta"
   ]
  },
  {
   "cell_type": "code",
   "execution_count": 12,
   "id": "2e52027f",
   "metadata": {},
   "outputs": [],
   "source": [
    "diy_paths = [\n",
    "    r'.\\dataset\\DIY\\DIY_reviews.csv',\n",
    "    r'.\\dataset\\DIY\\Revisi DIY 1\\DIY_reviews_rev1.csv',\n",
    "    r'.\\dataset\\DIY\\Revisi DIY 2\\DIY_reviews_rev2.csv',\n",
    "    r'.\\dataset\\DIY\\Revisi DIY 3\\DIY_reviews_rev3.csv'\n",
    "]"
   ]
  },
  {
   "cell_type": "code",
   "execution_count": 13,
   "id": "b373a2c5",
   "metadata": {},
   "outputs": [],
   "source": [
    "diy_dfs = [pd.read_csv(diy_path) for diy_path in diy_paths]"
   ]
  },
  {
   "cell_type": "markdown",
   "id": "c10b6edc",
   "metadata": {},
   "source": [
    "## Concat"
   ]
  },
  {
   "cell_type": "code",
   "execution_count": 14,
   "id": "70d5c199",
   "metadata": {},
   "outputs": [],
   "source": [
    "merged_dki = pd.concat([pd.concat(dki_dfs, ignore_index=True), dki_xlsx], ignore_index=True)\n",
    "merged_banten = pd.concat(banten_dfs, ignore_index=True)\n",
    "merged_jabar = pd.concat(jabar_dfs, ignore_index=True)\n",
    "merged_jateng = pd.concat([pd.concat(jateng_dfs, ignore_index=True), jateng_xlsx], ignore_index=True)\n",
    "merged_jatim = pd.concat(jatim_dfs, ignore_index=True)\n",
    "merged_diy = pd.concat(diy_dfs, ignore_index=True)"
   ]
  },
  {
   "cell_type": "markdown",
   "id": "e1fa3438",
   "metadata": {},
   "source": [
    "## Drop Feature"
   ]
  },
  {
   "cell_type": "code",
   "execution_count": 15,
   "id": "e0a1eaff",
   "metadata": {},
   "outputs": [
    {
     "name": "stdout",
     "output_type": "stream",
     "text": [
      "<class 'pandas.core.frame.DataFrame'>\n",
      "RangeIndex: 115739 entries, 0 to 115738\n",
      "Data columns (total 16 columns):\n",
      " #   Column                               Non-Null Count   Dtype  \n",
      "---  ------                               --------------   -----  \n",
      " 0   place_id                             115739 non-null  object \n",
      " 1   place_name                           115739 non-null  object \n",
      " 2   review_id_hash                       115739 non-null  object \n",
      " 3   rating                               115739 non-null  int64  \n",
      " 4   review_text                          60112 non-null   object \n",
      " 5   published_at                         115739 non-null  object \n",
      " 6   published_at_date                    115739 non-null  object \n",
      " 7   response_from_owner_text             13697 non-null   object \n",
      " 8   response_from_owner_ago              13975 non-null   object \n",
      " 9   response_from_owner_date             13974 non-null   object \n",
      " 10  review_likes_count                   115739 non-null  int64  \n",
      " 11  total_number_of_reviews_by_reviewer  108202 non-null  float64\n",
      " 12  total_number_of_photos_by_reviewer   79434 non-null   float64\n",
      " 13  is_local_guide                       108383 non-null  object \n",
      " 14  review_translated_text               43779 non-null   object \n",
      " 15  response_from_owner_translated_text  9930 non-null    object \n",
      "dtypes: float64(2), int64(2), object(12)\n",
      "memory usage: 14.1+ MB\n"
     ]
    }
   ],
   "source": [
    "merged_dki.info()"
   ]
  },
  {
   "cell_type": "code",
   "execution_count": 16,
   "id": "b676dfba",
   "metadata": {},
   "outputs": [],
   "source": [
    "selected_col = ['place_id', 'review_id_hash', 'rating', 'published_at_date',\n",
    "                'review_text', 'review_translated_text'\n",
    "                ]"
   ]
  },
  {
   "cell_type": "code",
   "execution_count": 17,
   "id": "2b45b04e",
   "metadata": {},
   "outputs": [],
   "source": [
    "clean_df_dki = merged_dki[selected_col]\n",
    "clean_df_banten = merged_banten[selected_col]\n",
    "clean_df_jabar = merged_jabar[selected_col]\n",
    "clean_df_jateng = merged_jateng[selected_col]\n",
    "clean_df_jatim = merged_jatim[selected_col]\n",
    "clean_df_diy = merged_diy[selected_col]"
   ]
  },
  {
   "cell_type": "markdown",
   "id": "6a850053",
   "metadata": {},
   "source": [
    "## Combine All"
   ]
  },
  {
   "cell_type": "code",
   "execution_count": 18,
   "id": "7d043590",
   "metadata": {},
   "outputs": [
    {
     "name": "stdout",
     "output_type": "stream",
     "text": [
      "<class 'pandas.core.frame.DataFrame'>\n",
      "RangeIndex: 467467 entries, 0 to 467466\n",
      "Data columns (total 6 columns):\n",
      " #   Column                  Non-Null Count   Dtype \n",
      "---  ------                  --------------   ----- \n",
      " 0   place_id                467467 non-null  object\n",
      " 1   review_id_hash          467467 non-null  object\n",
      " 2   rating                  467467 non-null  int64 \n",
      " 3   published_at_date       467467 non-null  object\n",
      " 4   review_text             243076 non-null  object\n",
      " 5   review_translated_text  193762 non-null  object\n",
      "dtypes: int64(1), object(5)\n",
      "memory usage: 21.4+ MB\n"
     ]
    }
   ],
   "source": [
    "full_df = pd.concat([clean_df_dki, clean_df_banten, clean_df_jabar, clean_df_jateng, clean_df_jatim, clean_df_diy], ignore_index=True)\n",
    "full_df = full_df.drop_duplicates(subset='review_id_hash', ignore_index=True)\n",
    "full_df.info()"
   ]
  },
  {
   "cell_type": "markdown",
   "id": "ad2552a8",
   "metadata": {},
   "source": [
    "## Feature Engineering"
   ]
  },
  {
   "cell_type": "markdown",
   "id": "3e1322b9",
   "metadata": {},
   "source": [
    "### date filter "
   ]
  },
  {
   "cell_type": "code",
   "execution_count": 19,
   "id": "e44ddf68",
   "metadata": {},
   "outputs": [],
   "source": [
    "# Ubah kolom published_at_date menjadi format datetime\n",
    "full_df['published_at_date'] = pd.to_datetime(full_df['published_at_date']).dt.date\n",
    "\n",
    "# Filter untuk 5 tahun terakhir\n",
    "end_date = pd.to_datetime('now').date()\n",
    "start_date = end_date.replace(year=end_date.year - 5)\n",
    "\n",
    "full_df = full_df[(full_df['published_at_date'] >= start_date) & (full_df['published_at_date'] <= end_date)]"
   ]
  },
  {
   "cell_type": "code",
   "execution_count": 20,
   "id": "ce94d29c",
   "metadata": {},
   "outputs": [
    {
     "data": {
      "text/html": [
       "<div>\n",
       "<style scoped>\n",
       "    .dataframe tbody tr th:only-of-type {\n",
       "        vertical-align: middle;\n",
       "    }\n",
       "\n",
       "    .dataframe tbody tr th {\n",
       "        vertical-align: top;\n",
       "    }\n",
       "\n",
       "    .dataframe thead th {\n",
       "        text-align: right;\n",
       "    }\n",
       "</style>\n",
       "<table border=\"1\" class=\"dataframe\">\n",
       "  <thead>\n",
       "    <tr style=\"text-align: right;\">\n",
       "      <th></th>\n",
       "      <th>place_id</th>\n",
       "      <th>review_id_hash</th>\n",
       "      <th>rating</th>\n",
       "      <th>published_at_date</th>\n",
       "      <th>review_text</th>\n",
       "      <th>review_translated_text</th>\n",
       "    </tr>\n",
       "  </thead>\n",
       "  <tbody>\n",
       "    <tr>\n",
       "      <th>0</th>\n",
       "      <td>ChIJd0EvQ4_zaS4ROHLtujX-hmE</td>\n",
       "      <td>24fa52235699580db1e3d25d426d3ee2</td>\n",
       "      <td>5</td>\n",
       "      <td>2024-05-13</td>\n",
       "      <td>NaN</td>\n",
       "      <td>NaN</td>\n",
       "    </tr>\n",
       "    <tr>\n",
       "      <th>1</th>\n",
       "      <td>ChIJd0EvQ4_zaS4ROHLtujX-hmE</td>\n",
       "      <td>0bd28397af73892f7f2442f631a3413d</td>\n",
       "      <td>5</td>\n",
       "      <td>2024-05-12</td>\n",
       "      <td>Bring it on</td>\n",
       "      <td>Ajieb</td>\n",
       "    </tr>\n",
       "    <tr>\n",
       "      <th>2</th>\n",
       "      <td>ChIJd0EvQ4_zaS4ROHLtujX-hmE</td>\n",
       "      <td>b03f9e10a0f752ea9e2cf745f99eec2f</td>\n",
       "      <td>5</td>\n",
       "      <td>2024-05-12</td>\n",
       "      <td>NaN</td>\n",
       "      <td>NaN</td>\n",
       "    </tr>\n",
       "    <tr>\n",
       "      <th>3</th>\n",
       "      <td>ChIJd0EvQ4_zaS4ROHLtujX-hmE</td>\n",
       "      <td>65aa47e2c0496e735239c1b2124da78e</td>\n",
       "      <td>4</td>\n",
       "      <td>2024-05-12</td>\n",
       "      <td>Bnyk varian menu</td>\n",
       "      <td>Many menu variants</td>\n",
       "    </tr>\n",
       "    <tr>\n",
       "      <th>4</th>\n",
       "      <td>ChIJd0EvQ4_zaS4ROHLtujX-hmE</td>\n",
       "      <td>4b9862cce476d92e08a5d9f28b043a4d</td>\n",
       "      <td>1</td>\n",
       "      <td>2024-05-12</td>\n",
       "      <td>Not open or has it disbanded? But the restaura...</td>\n",
       "      <td>NaN</td>\n",
       "    </tr>\n",
       "    <tr>\n",
       "      <th>...</th>\n",
       "      <td>...</td>\n",
       "      <td>...</td>\n",
       "      <td>...</td>\n",
       "      <td>...</td>\n",
       "      <td>...</td>\n",
       "      <td>...</td>\n",
       "    </tr>\n",
       "    <tr>\n",
       "      <th>467462</th>\n",
       "      <td>ChIJrYIz0CJXei4R-NAdJzRuNeE</td>\n",
       "      <td>a332d84cb4c015471476b302fca0c0ac</td>\n",
       "      <td>5</td>\n",
       "      <td>2023-05-14</td>\n",
       "      <td>Rasanya enak</td>\n",
       "      <td>It feels good</td>\n",
       "    </tr>\n",
       "    <tr>\n",
       "      <th>467463</th>\n",
       "      <td>ChIJEeRcDTFZei4RGwM0XiFELDo</td>\n",
       "      <td>5b63313e61c9e5d97b8c26af6e777634</td>\n",
       "      <td>5</td>\n",
       "      <td>2023-12-14</td>\n",
       "      <td>NaN</td>\n",
       "      <td>NaN</td>\n",
       "    </tr>\n",
       "    <tr>\n",
       "      <th>467464</th>\n",
       "      <td>ChIJQ3jEZgBZei4RJq00TKSIV7w</td>\n",
       "      <td>8d28e90adb3a0e4714898944b105ac39</td>\n",
       "      <td>5</td>\n",
       "      <td>2024-04-14</td>\n",
       "      <td>NaN</td>\n",
       "      <td>NaN</td>\n",
       "    </tr>\n",
       "    <tr>\n",
       "      <th>467465</th>\n",
       "      <td>ChIJi2wQirFZei4RsHLHfUxpZ_k</td>\n",
       "      <td>0546bd30d3bf441d27d7d830ccfe1cee</td>\n",
       "      <td>5</td>\n",
       "      <td>2020-05-14</td>\n",
       "      <td>NaN</td>\n",
       "      <td>NaN</td>\n",
       "    </tr>\n",
       "    <tr>\n",
       "      <th>467466</th>\n",
       "      <td>ChIJGSZLcaxZei4RanqgGgR_xyY</td>\n",
       "      <td>433ce491338fc47927579d406237a29a</td>\n",
       "      <td>5</td>\n",
       "      <td>2020-05-14</td>\n",
       "      <td>NaN</td>\n",
       "      <td>NaN</td>\n",
       "    </tr>\n",
       "  </tbody>\n",
       "</table>\n",
       "<p>438904 rows × 6 columns</p>\n",
       "</div>"
      ],
      "text/plain": [
       "                           place_id                    review_id_hash  rating  \\\n",
       "0       ChIJd0EvQ4_zaS4ROHLtujX-hmE  24fa52235699580db1e3d25d426d3ee2       5   \n",
       "1       ChIJd0EvQ4_zaS4ROHLtujX-hmE  0bd28397af73892f7f2442f631a3413d       5   \n",
       "2       ChIJd0EvQ4_zaS4ROHLtujX-hmE  b03f9e10a0f752ea9e2cf745f99eec2f       5   \n",
       "3       ChIJd0EvQ4_zaS4ROHLtujX-hmE  65aa47e2c0496e735239c1b2124da78e       4   \n",
       "4       ChIJd0EvQ4_zaS4ROHLtujX-hmE  4b9862cce476d92e08a5d9f28b043a4d       1   \n",
       "...                             ...                               ...     ...   \n",
       "467462  ChIJrYIz0CJXei4R-NAdJzRuNeE  a332d84cb4c015471476b302fca0c0ac       5   \n",
       "467463  ChIJEeRcDTFZei4RGwM0XiFELDo  5b63313e61c9e5d97b8c26af6e777634       5   \n",
       "467464  ChIJQ3jEZgBZei4RJq00TKSIV7w  8d28e90adb3a0e4714898944b105ac39       5   \n",
       "467465  ChIJi2wQirFZei4RsHLHfUxpZ_k  0546bd30d3bf441d27d7d830ccfe1cee       5   \n",
       "467466  ChIJGSZLcaxZei4RanqgGgR_xyY  433ce491338fc47927579d406237a29a       5   \n",
       "\n",
       "       published_at_date                                        review_text  \\\n",
       "0             2024-05-13                                                NaN   \n",
       "1             2024-05-12                                        Bring it on   \n",
       "2             2024-05-12                                                NaN   \n",
       "3             2024-05-12                                   Bnyk varian menu   \n",
       "4             2024-05-12  Not open or has it disbanded? But the restaura...   \n",
       "...                  ...                                                ...   \n",
       "467462        2023-05-14                                       Rasanya enak   \n",
       "467463        2023-12-14                                                NaN   \n",
       "467464        2024-04-14                                                NaN   \n",
       "467465        2020-05-14                                                NaN   \n",
       "467466        2020-05-14                                                NaN   \n",
       "\n",
       "       review_translated_text  \n",
       "0                         NaN  \n",
       "1                       Ajieb  \n",
       "2                         NaN  \n",
       "3          Many menu variants  \n",
       "4                         NaN  \n",
       "...                       ...  \n",
       "467462          It feels good  \n",
       "467463                    NaN  \n",
       "467464                    NaN  \n",
       "467465                    NaN  \n",
       "467466                    NaN  \n",
       "\n",
       "[438904 rows x 6 columns]"
      ]
     },
     "execution_count": 20,
     "metadata": {},
     "output_type": "execute_result"
    }
   ],
   "source": [
    "full_df"
   ]
  },
  {
   "cell_type": "markdown",
   "id": "0712310f",
   "metadata": {},
   "source": [
    "### Add indonesian_text and english_text"
   ]
  },
  {
   "cell_type": "code",
   "execution_count": 21,
   "id": "c9d62301",
   "metadata": {},
   "outputs": [],
   "source": [
    "# Inisialisasi kolom baru dengan dtype yang sesuai\n",
    "full_df['english_review'] = np.nan\n",
    "full_df['indonesian_review'] = np.nan\n",
    "\n",
    "# Memisahkan ulasan berdasarkan bahasa menggunakan operasi vectorized\n",
    "mask_both_notnull = full_df['review_text'].notnull() & full_df['review_translated_text'].notnull()\n",
    "mask_translated_null = full_df['review_translated_text'].isnull()\n",
    "\n",
    "full_df.loc[mask_both_notnull, 'english_review'] = full_df['review_translated_text']\n",
    "full_df.loc[mask_both_notnull, 'indonesian_review'] = full_df['review_text']\n",
    "full_df.loc[mask_translated_null, 'english_review'] = full_df['review_text']\n",
    "\n",
    "# Menghapus kolom asli\n",
    "full_df.drop(['review_text', 'review_translated_text'], axis=1, inplace=True)"
   ]
  },
  {
   "cell_type": "code",
   "execution_count": 22,
   "id": "47e46cb0",
   "metadata": {},
   "outputs": [
    {
     "name": "stdout",
     "output_type": "stream",
     "text": [
      "<class 'pandas.core.frame.DataFrame'>\n",
      "Index: 438904 entries, 0 to 467466\n",
      "Data columns (total 6 columns):\n",
      " #   Column             Non-Null Count   Dtype \n",
      "---  ------             --------------   ----- \n",
      " 0   place_id           438904 non-null  object\n",
      " 1   review_id_hash     438904 non-null  object\n",
      " 2   rating             438904 non-null  int64 \n",
      " 3   published_at_date  438904 non-null  object\n",
      " 4   english_review     228676 non-null  object\n",
      " 5   indonesian_review  181996 non-null  object\n",
      "dtypes: int64(1), object(5)\n",
      "memory usage: 39.6+ MB\n"
     ]
    }
   ],
   "source": [
    "full_df.info()"
   ]
  },
  {
   "cell_type": "markdown",
   "id": "afd20ab0",
   "metadata": {},
   "source": [
    "### Add Label"
   ]
  },
  {
   "cell_type": "code",
   "execution_count": 23,
   "id": "a00311a1",
   "metadata": {},
   "outputs": [],
   "source": [
    "def determine_sentiment(rating):\n",
    "    if rating < 4:\n",
    "        return 0  # Negatif\n",
    "    else:\n",
    "        return 1  # Positif\n",
    "\n",
    "# Menambahkan kolom sentiment berdasarkan rating\n",
    "full_df['sentiment'] = full_df['rating'].apply(determine_sentiment)"
   ]
  },
  {
   "cell_type": "code",
   "execution_count": 24,
   "id": "8cbd4e21",
   "metadata": {},
   "outputs": [
    {
     "data": {
      "text/html": [
       "<div>\n",
       "<style scoped>\n",
       "    .dataframe tbody tr th:only-of-type {\n",
       "        vertical-align: middle;\n",
       "    }\n",
       "\n",
       "    .dataframe tbody tr th {\n",
       "        vertical-align: top;\n",
       "    }\n",
       "\n",
       "    .dataframe thead th {\n",
       "        text-align: right;\n",
       "    }\n",
       "</style>\n",
       "<table border=\"1\" class=\"dataframe\">\n",
       "  <thead>\n",
       "    <tr style=\"text-align: right;\">\n",
       "      <th></th>\n",
       "      <th>place_id</th>\n",
       "      <th>review_id_hash</th>\n",
       "      <th>rating</th>\n",
       "      <th>published_at_date</th>\n",
       "      <th>english_review</th>\n",
       "      <th>indonesian_review</th>\n",
       "      <th>sentiment</th>\n",
       "    </tr>\n",
       "  </thead>\n",
       "  <tbody>\n",
       "    <tr>\n",
       "      <th>0</th>\n",
       "      <td>ChIJd0EvQ4_zaS4ROHLtujX-hmE</td>\n",
       "      <td>24fa52235699580db1e3d25d426d3ee2</td>\n",
       "      <td>5</td>\n",
       "      <td>2024-05-13</td>\n",
       "      <td>NaN</td>\n",
       "      <td>NaN</td>\n",
       "      <td>1</td>\n",
       "    </tr>\n",
       "    <tr>\n",
       "      <th>1</th>\n",
       "      <td>ChIJd0EvQ4_zaS4ROHLtujX-hmE</td>\n",
       "      <td>0bd28397af73892f7f2442f631a3413d</td>\n",
       "      <td>5</td>\n",
       "      <td>2024-05-12</td>\n",
       "      <td>Ajieb</td>\n",
       "      <td>Bring it on</td>\n",
       "      <td>1</td>\n",
       "    </tr>\n",
       "    <tr>\n",
       "      <th>2</th>\n",
       "      <td>ChIJd0EvQ4_zaS4ROHLtujX-hmE</td>\n",
       "      <td>b03f9e10a0f752ea9e2cf745f99eec2f</td>\n",
       "      <td>5</td>\n",
       "      <td>2024-05-12</td>\n",
       "      <td>NaN</td>\n",
       "      <td>NaN</td>\n",
       "      <td>1</td>\n",
       "    </tr>\n",
       "    <tr>\n",
       "      <th>3</th>\n",
       "      <td>ChIJd0EvQ4_zaS4ROHLtujX-hmE</td>\n",
       "      <td>65aa47e2c0496e735239c1b2124da78e</td>\n",
       "      <td>4</td>\n",
       "      <td>2024-05-12</td>\n",
       "      <td>Many menu variants</td>\n",
       "      <td>Bnyk varian menu</td>\n",
       "      <td>1</td>\n",
       "    </tr>\n",
       "    <tr>\n",
       "      <th>4</th>\n",
       "      <td>ChIJd0EvQ4_zaS4ROHLtujX-hmE</td>\n",
       "      <td>4b9862cce476d92e08a5d9f28b043a4d</td>\n",
       "      <td>1</td>\n",
       "      <td>2024-05-12</td>\n",
       "      <td>Not open or has it disbanded? But the restaura...</td>\n",
       "      <td>NaN</td>\n",
       "      <td>0</td>\n",
       "    </tr>\n",
       "    <tr>\n",
       "      <th>...</th>\n",
       "      <td>...</td>\n",
       "      <td>...</td>\n",
       "      <td>...</td>\n",
       "      <td>...</td>\n",
       "      <td>...</td>\n",
       "      <td>...</td>\n",
       "      <td>...</td>\n",
       "    </tr>\n",
       "    <tr>\n",
       "      <th>467462</th>\n",
       "      <td>ChIJrYIz0CJXei4R-NAdJzRuNeE</td>\n",
       "      <td>a332d84cb4c015471476b302fca0c0ac</td>\n",
       "      <td>5</td>\n",
       "      <td>2023-05-14</td>\n",
       "      <td>It feels good</td>\n",
       "      <td>Rasanya enak</td>\n",
       "      <td>1</td>\n",
       "    </tr>\n",
       "    <tr>\n",
       "      <th>467463</th>\n",
       "      <td>ChIJEeRcDTFZei4RGwM0XiFELDo</td>\n",
       "      <td>5b63313e61c9e5d97b8c26af6e777634</td>\n",
       "      <td>5</td>\n",
       "      <td>2023-12-14</td>\n",
       "      <td>NaN</td>\n",
       "      <td>NaN</td>\n",
       "      <td>1</td>\n",
       "    </tr>\n",
       "    <tr>\n",
       "      <th>467464</th>\n",
       "      <td>ChIJQ3jEZgBZei4RJq00TKSIV7w</td>\n",
       "      <td>8d28e90adb3a0e4714898944b105ac39</td>\n",
       "      <td>5</td>\n",
       "      <td>2024-04-14</td>\n",
       "      <td>NaN</td>\n",
       "      <td>NaN</td>\n",
       "      <td>1</td>\n",
       "    </tr>\n",
       "    <tr>\n",
       "      <th>467465</th>\n",
       "      <td>ChIJi2wQirFZei4RsHLHfUxpZ_k</td>\n",
       "      <td>0546bd30d3bf441d27d7d830ccfe1cee</td>\n",
       "      <td>5</td>\n",
       "      <td>2020-05-14</td>\n",
       "      <td>NaN</td>\n",
       "      <td>NaN</td>\n",
       "      <td>1</td>\n",
       "    </tr>\n",
       "    <tr>\n",
       "      <th>467466</th>\n",
       "      <td>ChIJGSZLcaxZei4RanqgGgR_xyY</td>\n",
       "      <td>433ce491338fc47927579d406237a29a</td>\n",
       "      <td>5</td>\n",
       "      <td>2020-05-14</td>\n",
       "      <td>NaN</td>\n",
       "      <td>NaN</td>\n",
       "      <td>1</td>\n",
       "    </tr>\n",
       "  </tbody>\n",
       "</table>\n",
       "<p>438904 rows × 7 columns</p>\n",
       "</div>"
      ],
      "text/plain": [
       "                           place_id                    review_id_hash  rating  \\\n",
       "0       ChIJd0EvQ4_zaS4ROHLtujX-hmE  24fa52235699580db1e3d25d426d3ee2       5   \n",
       "1       ChIJd0EvQ4_zaS4ROHLtujX-hmE  0bd28397af73892f7f2442f631a3413d       5   \n",
       "2       ChIJd0EvQ4_zaS4ROHLtujX-hmE  b03f9e10a0f752ea9e2cf745f99eec2f       5   \n",
       "3       ChIJd0EvQ4_zaS4ROHLtujX-hmE  65aa47e2c0496e735239c1b2124da78e       4   \n",
       "4       ChIJd0EvQ4_zaS4ROHLtujX-hmE  4b9862cce476d92e08a5d9f28b043a4d       1   \n",
       "...                             ...                               ...     ...   \n",
       "467462  ChIJrYIz0CJXei4R-NAdJzRuNeE  a332d84cb4c015471476b302fca0c0ac       5   \n",
       "467463  ChIJEeRcDTFZei4RGwM0XiFELDo  5b63313e61c9e5d97b8c26af6e777634       5   \n",
       "467464  ChIJQ3jEZgBZei4RJq00TKSIV7w  8d28e90adb3a0e4714898944b105ac39       5   \n",
       "467465  ChIJi2wQirFZei4RsHLHfUxpZ_k  0546bd30d3bf441d27d7d830ccfe1cee       5   \n",
       "467466  ChIJGSZLcaxZei4RanqgGgR_xyY  433ce491338fc47927579d406237a29a       5   \n",
       "\n",
       "       published_at_date                                     english_review  \\\n",
       "0             2024-05-13                                                NaN   \n",
       "1             2024-05-12                                              Ajieb   \n",
       "2             2024-05-12                                                NaN   \n",
       "3             2024-05-12                                 Many menu variants   \n",
       "4             2024-05-12  Not open or has it disbanded? But the restaura...   \n",
       "...                  ...                                                ...   \n",
       "467462        2023-05-14                                      It feels good   \n",
       "467463        2023-12-14                                                NaN   \n",
       "467464        2024-04-14                                                NaN   \n",
       "467465        2020-05-14                                                NaN   \n",
       "467466        2020-05-14                                                NaN   \n",
       "\n",
       "       indonesian_review  sentiment  \n",
       "0                    NaN          1  \n",
       "1            Bring it on          1  \n",
       "2                    NaN          1  \n",
       "3       Bnyk varian menu          1  \n",
       "4                    NaN          0  \n",
       "...                  ...        ...  \n",
       "467462      Rasanya enak          1  \n",
       "467463               NaN          1  \n",
       "467464               NaN          1  \n",
       "467465               NaN          1  \n",
       "467466               NaN          1  \n",
       "\n",
       "[438904 rows x 7 columns]"
      ]
     },
     "execution_count": 24,
     "metadata": {},
     "output_type": "execute_result"
    }
   ],
   "source": [
    "full_df"
   ]
  },
  {
   "cell_type": "code",
   "execution_count": 25,
   "id": "29bf0048",
   "metadata": {},
   "outputs": [
    {
     "data": {
      "image/png": "[encoded data removed]",
      "text/plain": [
       "<Figure size 800x600 with 1 Axes>"
      ]
     },
     "metadata": {},
     "output_type": "display_data"
    }
   ],
   "source": [
    "# Menghitung distribusi sentimen\n",
    "sentiment_counts = full_df['sentiment'].value_counts()\n",
    "\n",
    "# Membuat bar chart\n",
    "plt.figure(figsize=(8, 6))\n",
    "sns.barplot(x=sentiment_counts.index, y=sentiment_counts.values, palette='viridis')\n",
    "plt.xlabel('Sentiment')\n",
    "plt.ylabel('Count')\n",
    "plt.title('Distribution of Sentiments')\n",
    "plt.xticks(ticks=[0, 1], labels=['Negatif', 'Positif'])\n",
    "plt.show()"
   ]
  },
  {
   "cell_type": "code",
   "execution_count": 26,
   "id": "e91a2f73",
   "metadata": {},
   "outputs": [],
   "source": [
    "indo_df    = full_df.drop('english_review', axis=1).dropna(subset=['indonesian_review'])\n",
    "english_df = full_df.drop('indonesian_review', axis=1).dropna(subset=['english_review'])"
   ]
  },
  {
   "cell_type": "code",
   "execution_count": 27,
   "id": "8c7bd1df",
   "metadata": {},
   "outputs": [
    {
     "name": "stdout",
     "output_type": "stream",
     "text": [
      "<class 'pandas.core.frame.DataFrame'>\n",
      "Index: 228676 entries, 1 to 467462\n",
      "Data columns (total 6 columns):\n",
      " #   Column             Non-Null Count   Dtype \n",
      "---  ------             --------------   ----- \n",
      " 0   place_id           228676 non-null  object\n",
      " 1   review_id_hash     228676 non-null  object\n",
      " 2   rating             228676 non-null  int64 \n",
      " 3   published_at_date  228676 non-null  object\n",
      " 4   english_review     228676 non-null  object\n",
      " 5   sentiment          228676 non-null  int64 \n",
      "dtypes: int64(2), object(4)\n",
      "memory usage: 12.2+ MB\n"
     ]
    }
   ],
   "source": [
    "english_df.info()"
   ]
  },
  {
   "cell_type": "code",
   "execution_count": 28,
   "id": "c056b466",
   "metadata": {},
   "outputs": [],
   "source": [
    "# Export for Labelling\n",
    "\n",
    "# Pisahkan DataFrame berdasarkan kelas\n",
    "df_positive = english_df[english_df['sentiment'] == 1]\n",
    "df_negative = english_df[english_df['sentiment'] == 0]\n",
    "\n",
    "# Tentukan ukuran sampel yang diinginkan (undersampling)\n",
    "n_samples = 5000\n",
    "\n",
    "# Ambil sampel dari setiap kelas\n",
    "df_positive_sampled = df_positive.sample(n_samples, random_state=2024)\n",
    "df_negative_sampled = df_negative.sample(n_samples, random_state=2024)\n",
    "\n",
    "df_positive_sampled.to_csv('.\\sentiment_dataset\\df_positive.csv')\n",
    "df_negative_sampled.to_csv('.\\sentiment_dataset\\df_negative.csv')"
   ]
  },
  {
   "cell_type": "markdown",
   "id": "5c346469",
   "metadata": {},
   "source": [
    "# Critism Dataset"
   ]
  },
  {
   "cell_type": "markdown",
   "id": "5d69595e",
   "metadata": {},
   "source": [
    "## Import Data"
   ]
  },
  {
   "cell_type": "code",
   "execution_count": 29,
   "id": "ea258724",
   "metadata": {},
   "outputs": [],
   "source": [
    "critism_paths = [\n",
    "    r'.\\sentiment_dataset\\df_neg_1.csv',\n",
    "    r'.\\sentiment_dataset\\df_neg_2.csv',\n",
    "    r'.\\sentiment_dataset\\df_neg_3.csv',\n",
    "    r'.\\sentiment_dataset\\df_neg_4.csv',\n",
    "    r'.\\sentiment_dataset\\df_neg_5.csv',\n",
    "    r'.\\sentiment_dataset\\df_pos_1.csv',\n",
    "    r'.\\sentiment_dataset\\df_pos_2.csv',\n",
    "    r'.\\sentiment_dataset\\df_pos_3.csv',\n",
    "    r'.\\sentiment_dataset\\df_pos_4.csv',\n",
    "    r'.\\sentiment_dataset\\df_pos_5.csv',\n",
    "    r'.\\sentiment_dataset\\df_pos_6.csv'\n",
    "]"
   ]
  },
  {
   "cell_type": "code",
   "execution_count": 30,
   "id": "73c2d7f4",
   "metadata": {},
   "outputs": [],
   "source": [
    "critism_dfs = [pd.read_csv(critism_path) for critism_path in critism_paths]"
   ]
  },
  {
   "cell_type": "markdown",
   "id": "38e68d6a",
   "metadata": {},
   "source": [
    "## Combine Data"
   ]
  },
  {
   "cell_type": "code",
   "execution_count": 31,
   "id": "a0ad1a29",
   "metadata": {},
   "outputs": [],
   "source": [
    "merged_critism = pd.concat(critism_dfs, ignore_index=True)"
   ]
  },
  {
   "cell_type": "markdown",
   "id": "fd73fef6",
   "metadata": {},
   "source": [
    "## Feature Engineering"
   ]
  },
  {
   "cell_type": "code",
   "execution_count": 32,
   "id": "7c4b91ac",
   "metadata": {},
   "outputs": [],
   "source": [
    "critism_df = merged_critism.dropna(subset=['label'])\n",
    "critism_df['label'] = critism_df['label'].astype(int)"
   ]
  },
  {
   "cell_type": "code",
   "execution_count": 33,
   "id": "43d8f1f0",
   "metadata": {},
   "outputs": [
    {
     "data": {
      "text/plain": [
       "place_id             4352\n",
       "review_id_hash       4352\n",
       "rating               4352\n",
       "published_at_date    4352\n",
       "english_review       4352\n",
       "sentiment            4352\n",
       "label                4352\n",
       "dtype: int64"
      ]
     },
     "execution_count": 33,
     "metadata": {},
     "output_type": "execute_result"
    }
   ],
   "source": [
    "critism_df[critism_df['label'] == 0].count()"
   ]
  },
  {
   "cell_type": "markdown",
   "id": "2b67c550",
   "metadata": {},
   "source": [
    "# Sentiment Analysis (English)"
   ]
  },
  {
   "cell_type": "markdown",
   "id": "809e30de",
   "metadata": {},
   "source": [
    "## Prepare and split data"
   ]
  },
  {
   "cell_type": "code",
   "execution_count": 34,
   "id": "d349aaf3",
   "metadata": {},
   "outputs": [],
   "source": [
    "def review_to_words(raw_review):\n",
    "    # 1. Remove HTML\n",
    "    review_text = BeautifulSoup(raw_review, 'lxml').get_text() \n",
    "    \n",
    "    # 2. Tokenize words\n",
    "    words = word_tokenize(review_text)\n",
    "    \n",
    "    # 3. Convert to lower case\n",
    "    words = [word.lower() for word in words]\n",
    "    \n",
    "    # 4. Remove non-alphabetic characters and numbers\n",
    "    words = [re.sub(\"[^a-zA-Z]\", \"\", word) for word in words]\n",
    "    \n",
    "    # 5. Lemmatization\n",
    "    lemmatizer = WordNetLemmatizer()\n",
    "    words = [lemmatizer.lemmatize(word) for word in words]\n",
    "    \n",
    "    # 6. Create set of stopwords\n",
    "    stops = set(stopwords.words(\"english\"))\n",
    "    \n",
    "    # 7. Remove stop words\n",
    "    meaningful_words = [word for word in words if word not in stops]\n",
    "    \n",
    "    # 8. Join the words back into one string separated by space\n",
    "    return \" \".join(meaningful_words)\n",
    "\n",
    "\n"
   ]
  },
  {
   "cell_type": "code",
   "execution_count": 35,
   "id": "e3fc682b",
   "metadata": {},
   "outputs": [],
   "source": [
    "# Contoh penggunaan\n",
    "df_balanced = critism_df.copy()\n",
    "df_balanced['english_review'] = df_balanced['english_review'].apply(review_to_words)\n"
   ]
  },
  {
   "cell_type": "code",
   "execution_count": 36,
   "id": "c8fff068",
   "metadata": {},
   "outputs": [],
   "source": [
    "X = df_balanced['english_review']\n",
    "y = df_balanced['label']\n",
    "\n",
    "# Split data menjadi train dan sementara untuk validation+test (20% dari data)\n",
    "X_train, X_temp, y_train, y_temp = train_test_split(X, y, test_size=0.2, stratify=y, random_state=2024)\n",
    "X_val, X_test, y_val, y_test = train_test_split(X_temp, y_temp, test_size=0.5, stratify=y_temp, random_state=2024)\n"
   ]
  },
  {
   "cell_type": "markdown",
   "id": "fdfbe947",
   "metadata": {},
   "source": [
    "## Modelling"
   ]
  },
  {
   "cell_type": "code",
   "execution_count": 37,
   "id": "5137e782",
   "metadata": {},
   "outputs": [],
   "source": [
    "# Load model BERT\n",
    "tfhub_handle_preprocess = \"https://tfhub.dev/tensorflow/bert_en_uncased_preprocess/3\"\n",
    "tfhub_handle_encoder = \"https://tfhub.dev/tensorflow/small_bert/bert_en_uncased_L-2_H-128_A-2/2\""
   ]
  },
  {
   "cell_type": "code",
   "execution_count": 38,
   "id": "fa7d699d",
   "metadata": {},
   "outputs": [],
   "source": [
    "def build_classifier_model():\n",
    "    text_input = tf.keras.layers.Input(shape=(), dtype=tf.string, name='text')\n",
    "    preprocessing_layer = hub.KerasLayer(tfhub_handle_preprocess, name='preprocessing')\n",
    "    encoder_inputs = preprocessing_layer(text_input)\n",
    "    encoder = hub.KerasLayer(tfhub_handle_encoder, trainable=True, name='BERT_encoder')\n",
    "    outputs = encoder(encoder_inputs)\n",
    "    net = outputs['pooled_output']\n",
    "    net = tf.keras.layers.Dropout(0.2)(net)\n",
    "    net = tf.keras.layers.Dense(1, activation='sigmoid', name='classifier')(net)  # Sigmoid untuk binary classification\n",
    "    return tf.keras.Model(text_input, net)"
   ]
  },
  {
   "cell_type": "code",
   "execution_count": 39,
   "id": "a83064e3",
   "metadata": {},
   "outputs": [],
   "source": [
    "# Compile model\n",
    "classifier_model = build_classifier_model()\n",
    "classifier_model.compile(optimizer='adam',\n",
    "                         loss='binary_crossentropy',\n",
    "                         metrics=['accuracy'])"
   ]
  },
  {
   "cell_type": "code",
   "execution_count": 40,
   "id": "24fad27e",
   "metadata": {},
   "outputs": [],
   "source": [
    "# Define callback for saving the best model based on validation loss\n",
    "checkpoint_filepath = 'critique_model.h5'\n",
    "model_checkpoint_callback = tf.keras.callbacks.ModelCheckpoint(\n",
    "    filepath=checkpoint_filepath,\n",
    "    save_weights_only=False,\n",
    "    monitor='val_loss',\n",
    "    mode='min',\n",
    "    save_best_only=True)"
   ]
  },
  {
   "cell_type": "code",
   "execution_count": 41,
   "id": "1247d5ed",
   "metadata": {},
   "outputs": [
    {
     "name": "stdout",
     "output_type": "stream",
     "text": [
      "Epoch 1/5\n",
      "249/249 [==============================] - 53s 199ms/step - loss: 0.4828 - accuracy: 0.7713 - val_loss: 0.4031 - val_accuracy: 0.8300\n",
      "Epoch 2/5\n",
      "249/249 [==============================] - 33s 132ms/step - loss: 0.3806 - accuracy: 0.8415 - val_loss: 0.4159 - val_accuracy: 0.8159\n",
      "Epoch 3/5\n",
      "249/249 [==============================] - 29s 116ms/step - loss: 0.3421 - accuracy: 0.8670 - val_loss: 0.4256 - val_accuracy: 0.8300\n",
      "Epoch 4/5\n",
      "249/249 [==============================] - 29s 116ms/step - loss: 0.3051 - accuracy: 0.8830 - val_loss: 0.4805 - val_accuracy: 0.8249\n",
      "Epoch 5/5\n",
      "249/249 [==============================] - 29s 116ms/step - loss: 0.3030 - accuracy: 0.8843 - val_loss: 0.4545 - val_accuracy: 0.8139\n"
     ]
    }
   ],
   "source": [
    "# Training\n",
    "history = classifier_model.fit(X_train, y_train,\n",
    "                               validation_data=(X_val, y_val),\n",
    "                               epochs=5,\n",
    "                               batch_size=32,\n",
    "                               callbacks=[model_checkpoint_callback])"
   ]
  },
  {
   "cell_type": "code",
   "execution_count": 42,
   "id": "42c49e35",
   "metadata": {},
   "outputs": [],
   "source": [
    "# Save model in .h5 format\n",
    "classifier_model =  tf.keras.models.load_model('critique_model.h5', custom_objects={'KerasLayer': hub.KerasLayer})"
   ]
  },
  {
   "cell_type": "markdown",
   "id": "befb891a",
   "metadata": {},
   "source": [
    "## Evaluation"
   ]
  },
  {
   "cell_type": "code",
   "execution_count": 43,
   "id": "47766100",
   "metadata": {},
   "outputs": [
    {
     "name": "stdout",
     "output_type": "stream",
     "text": [
      "32/32 [==============================] - 3s 84ms/step - loss: 0.4182 - accuracy: 0.8201\n",
      "Test Loss: 0.4181698262691498\n",
      "Test Accuracy: 0.8201004862785339\n"
     ]
    }
   ],
   "source": [
    "# Evaluasi pada data test\n",
    "loss, accuracy = classifier_model.evaluate(X_test, y_test)\n",
    "print(f'Test Loss: {loss}')\n",
    "print(f'Test Accuracy: {accuracy}')"
   ]
  },
  {
   "cell_type": "code",
   "execution_count": 44,
   "id": "1718429a",
   "metadata": {},
   "outputs": [
    {
     "data": {
      "image/png": "[encoded data removed]",
      "text/plain": [
       "<Figure size 640x480 with 1 Axes>"
      ]
     },
     "metadata": {},
     "output_type": "display_data"
    }
   ],
   "source": [
    "# Plot history\n",
    "import matplotlib.pyplot as plt\n",
    "\n",
    "plt.plot(history.history['accuracy'], label='accuracy')\n",
    "plt.plot(history.history['val_accuracy'], label = 'val_accuracy')\n",
    "plt.xlabel('Epoch')\n",
    "plt.ylabel('Accuracy')\n",
    "plt.ylim([0, 1])\n",
    "plt.legend(loc='lower right')\n",
    "plt.show()"
   ]
  },
  {
   "cell_type": "code",
   "execution_count": 45,
   "id": "83d867db",
   "metadata": {},
   "outputs": [
    {
     "name": "stdout",
     "output_type": "stream",
     "text": [
      "32/32 [==============================] - 4s 99ms/step\n",
      "[[390  45]\n",
      " [134 426]]\n",
      "              precision    recall  f1-score   support\n",
      "\n",
      "           0       0.74      0.90      0.81       435\n",
      "           1       0.90      0.76      0.83       560\n",
      "\n",
      "    accuracy                           0.82       995\n",
      "   macro avg       0.82      0.83      0.82       995\n",
      "weighted avg       0.83      0.82      0.82       995\n",
      "\n"
     ]
    }
   ],
   "source": [
    "# Confusion Matrix\n",
    "y_pred_probs = classifier_model.predict(X_test)\n",
    "y_pred = np.round(y_pred_probs).astype(int)\n",
    "conf_matrix = confusion_matrix(y_test, y_pred)\n",
    "print(conf_matrix)\n",
    "\n",
    "# Classification Report\n",
    "print(classification_report(y_test, y_pred))\n"
   ]
  },
  {
   "cell_type": "markdown",
   "id": "69db94c1",
   "metadata": {},
   "source": [
    "## Prediction"
   ]
  },
  {
   "cell_type": "code",
   "execution_count": 46,
   "id": "aa5735cc",
   "metadata": {},
   "outputs": [
    {
     "name": "stdout",
     "output_type": "stream",
     "text": [
      "1/1 [==============================] - 0s 412ms/step\n",
      "Probability of positive sentiment: 0.8236640095710754\n",
      "Predicted sentiment: critique/suggestion\n"
     ]
    }
   ],
   "source": [
    "# Prediksi satu kalimat review\n",
    "def predict_review(review):\n",
    "    preprocessed_review = review_to_words(review)\n",
    "    probabilities = classifier_model.predict([preprocessed_review])[0][0]\n",
    "    return probabilities\n",
    "\n",
    "review = \"the waiter very bad\"\n",
    "probability = predict_review(review)\n",
    "print(f'Probability of positive sentiment: {probability}')\n",
    "\n",
    "# Menggunakan probabilitas untuk klasifikasi\n",
    "threshold = 0.5\n",
    "predicted_sentiment = \"critique/suggestion\" if probability > threshold else \"not critique/suggestion\"\n",
    "print(f'Predicted sentiment: {predicted_sentiment}')"
   ]
  },
  {
   "cell_type": "code",
   "execution_count": 47,
   "id": "fc57abaf",
   "metadata": {},
   "outputs": [],
   "source": [
    "# # Fungsi prediksi satu kalimat review\n",
    "# def predict_review(review, classifier_model):\n",
    "#     preprocessed_review = review_to_words(review)\n",
    "#     probabilities = classifier_model.predict([preprocessed_review])[0][0]\n",
    "#     return probabilities\n",
    "\n",
    "# # Fungsi gabungan untuk menambahkan kolom 'pred_probab'\n",
    "# def add_probability_column(df, classifier_model):\n",
    "#     df['pred_probab'] = df['english_review'].apply(lambda review: predict_review(review, classifier_model))\n",
    "#     return df\n",
    "\n",
    "# # Misal classifier_model sudah dilatih\n",
    "# temp_df = english_df.sample(1000, random_state=2024)\n",
    "\n",
    "# temp_df = add_probability_column(temp_df, classifier_model)\n",
    "\n",
    "# # Tampilkan dataframe dengan kolom baru 'pred_probab'\n",
    "# temp_df.head(10)\n"
   ]
  }
 ],
 "metadata": {
  "kernelspec": {
   "display_name": "Python 3 (ipykernel)",
   "language": "python",
   "name": "python3"
  },
  "language_info": {
   "codemirror_mode": {
    "name": "ipython",
    "version": 3
   },
   "file_extension": ".py",
   "mimetype": "text/x-python",
   "name": "python",
   "nbconvert_exporter": "python",
   "pygments_lexer": "ipython3",
   "version": "3.9.18"
  }
 },
 "nbformat": 4,
 "nbformat_minor": 5
}
